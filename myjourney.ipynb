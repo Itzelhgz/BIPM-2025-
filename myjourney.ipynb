{
  "cells": [
    {
      "cell_type": "markdown",
      "metadata": {
        "id": "view-in-github",
        "colab_type": "text"
      },
      "source": [
        "<a href=\"https://colab.research.google.com/github/Itzelhgz/BIPM-2025-/blob/main/myjourney.ipynb\" target=\"_parent\"><img src=\"https://colab.research.google.com/assets/colab-badge.svg\" alt=\"Open In Colab\"/></a>"
      ]
    },
    {
      "cell_type": "markdown",
      "id": "089da687",
      "metadata": {
        "id": "089da687"
      },
      "source": []
    },
    {
      "cell_type": "markdown",
      "id": "c03bab89",
      "metadata": {
        "id": "c03bab89"
      },
      "source": [
        "Generate inmteractive map and save as standalone html page.\n",
        "\n",
        "(Try different tile servers)"
      ]
    },
    {
      "cell_type": "code",
      "execution_count": 1,
      "id": "945f0642",
      "metadata": {
        "colab": {
          "base_uri": "https://localhost:8080/"
        },
        "id": "945f0642",
        "outputId": "ea7a199e-981a-4d1b-a3a0-a286ce71e2a0"
      },
      "outputs": [
        {
          "output_type": "stream",
          "name": "stdout",
          "text": [
            "Mounted at /content/drive\n"
          ]
        }
      ],
      "source": [
        "import folium\n",
        "from pyproj import Geod\n",
        "\n",
        "geod = Geod(ellps=\"WGS84\")\n",
        "\n",
        "# Define stops\n",
        "stops = [\n",
        "    {\"city\": \"Mexico City, Mexico\", \"lat\": 19.41, \"lon\": -99.14, \"popup\": \"Birthplace (1996-1997) 👶🏻\"},\n",
        "    {\"city\": \"Mexico State, Mexico\", \"lat\": 19.35, \"lon\": -99.70, \"popup\": \"School (1997-2015) 📚🚌\"},\n",
        "    {\"city\": \"Puebla, Mexico\", \"lat\": 19.04, \"lon\": -98.19, \"popup\": \"University & Work (2015-2025) 🎓👩🏻‍💻🚗\"},\n",
        "    {\"city\": \"Berlin, Germany\", \"lat\": 52.52, \"lon\": 13.40, \"popup\": \"HWR BIPM (2025-present) 🇩🇪\"},\n",
        "\n",
        "]\n",
        "\n",
        "# Create map\n",
        "m = folium.Map(\n",
        "    location=[40, 0],\n",
        "    zoom_start=2.3,\n",
        "    tiles=\"https://{s}.basemaps.cartocdn.com/light_all/{z}/{x}/{y}{r}.png\",\n",
        "    attr=\"© OpenStreetMap contributors © CARTO\"\n",
        ")\n",
        "\n",
        "# Add markers\n",
        "for stop in stops:\n",
        "    folium.Marker(\n",
        "        [stop[\"lat\"], stop[\"lon\"]],\n",
        "        popup=stop[\"popup\"],\n",
        "        tooltip=stop[\"city\"],\n",
        "        icon=folium.Icon(color=\"blue\", icon=\"info-sign\")\n",
        "    ).add_to(m)\n",
        "\n",
        "# Function to compute many intermediate great-circle points\n",
        "def great_circle_points(lat1, lon1, lat2, lon2, npts=100):\n",
        "    points = geod.npts(lon1, lat1, lon2, lat2, npts)\n",
        "    coords = [(lat1, lon1)] + [(lat, lon) for lon, lat in points] + [(lat2, lon2)]\n",
        "    return coords\n",
        "\n",
        "# Draw arcs between consecutive stops\n",
        "for i in range(len(stops) - 1):\n",
        "    start, end = stops[i], stops[i + 1]\n",
        "    arc = great_circle_points(start[\"lat\"], start[\"lon\"], end[\"lat\"], end[\"lon\"], npts=60)\n",
        "    folium.PolyLine(\n",
        "        arc,\n",
        "        color=\"darkblue\",\n",
        "        weight=3,\n",
        "        opacity=0.7\n",
        "    ).add_to(m)\n",
        "\n",
        "# Save and open\n",
        "m.save(\"academic_journey_map.html\")\n",
        "import webbrowser; webbrowser.open(\"academic_journey_map.html\")\n",
        "\n",
        "m\n",
        "\n",
        "from google.colab import drive\n",
        "drive.mount('/content/drive')\n",
        "\n",
        "#This is my path:\n",
        "#save_path = '/content/drive/MyDrive/Teaching/WS2025/academic_journey_map.html'\n",
        "save_path = '/content/drive/MyDrive/academic_journey_map.html'"
      ]
    },
    {
      "cell_type": "code",
      "execution_count": null,
      "id": "a639d42d",
      "metadata": {
        "id": "a639d42d"
      },
      "outputs": [],
      "source": []
    }
  ],
  "metadata": {
    "kernelspec": {
      "display_name": "venv312",
      "language": "python",
      "name": "python3"
    },
    "language_info": {
      "codemirror_mode": {
        "name": "ipython",
        "version": 3
      },
      "file_extension": ".py",
      "mimetype": "text/x-python",
      "name": "python",
      "nbconvert_exporter": "python",
      "pygments_lexer": "ipython3",
      "version": "3.12.0"
    },
    "colab": {
      "provenance": [],
      "include_colab_link": true
    }
  },
  "nbformat": 4,
  "nbformat_minor": 5
}